{
 "cells": [
  {
   "cell_type": "code",
   "execution_count": 8,
   "id": "28074558",
   "metadata": {},
   "outputs": [
    {
     "name": "stdout",
     "output_type": "stream",
     "text": [
      "Top 3 stations: ['W 21 St & 6 Ave', 'Broadway & W 58 St', 'University Pl & E 14 St']\n",
      "\n",
      "Processed data (first 5 rows):\n",
      "         start_station_name           start_hour  trip_count\n",
      "4760911  Broadway & W 58 St  2022-12-31 10:00:00           1\n",
      "4760912  Broadway & W 58 St  2022-12-31 12:00:00           1\n",
      "4760913  Broadway & W 58 St  2022-12-31 20:00:00           1\n",
      "4760914  Broadway & W 58 St  2023-01-01 00:00:00           6\n",
      "4760915  Broadway & W 58 St  2023-01-01 01:00:00           2\n"
     ]
    }
   ],
   "source": [
    "import pandas as pd\n",
    "import glob\n",
    "import os\n",
    "\n",
    "# Define the path to the raw data\n",
    "data_path = \"data/raw\"\n",
    "\n",
    "# Step 1: Load all CSV files with low_memory=False\n",
    "all_files = glob.glob(os.path.join(data_path, \"*.csv\"))\n",
    "df_list = [pd.read_csv(file, low_memory=False) for file in all_files]\n",
    "df = pd.concat(df_list, ignore_index=True)\n",
    "\n",
    "# Step 2: Drop irrelevant columns\n",
    "df = df.drop(columns=['Unnamed: 0', 'rideable_type_duplicate_column_name_1'], errors='ignore')\n",
    "\n",
    "# Step 3: Clean and preprocess\n",
    "# Convert timestamps to datetime with mixed format support\n",
    "df['started_at'] = pd.to_datetime(df['started_at'], format='mixed')\n",
    "df['ended_at'] = pd.to_datetime(df['ended_at'], format='mixed')\n",
    "\n",
    "# Drop rows with missing start_station_name\n",
    "df = df.dropna(subset=['start_station_name'])\n",
    "\n",
    "# Step 4: Aggregate by start station and hour\n",
    "df['start_hour'] = df['started_at'].dt.floor('H')  # Round to nearest hour\n",
    "trips_per_station_hour = df.groupby(['start_station_name', 'start_hour']).size().reset_index(name='trip_count')\n",
    "\n",
    "# Step 5: Select top 3 stations by total trips\n",
    "total_trips_per_station = df.groupby('start_station_name').size().reset_index(name='total_trips')\n",
    "top_3_stations = total_trips_per_station.sort_values(by='total_trips', ascending=False).head(3)['start_station_name'].tolist()\n",
    "print(\"Top 3 stations:\", top_3_stations)\n",
    "\n",
    "# Step 6: Filter data for top 3 stations and create a new DataFrame\n",
    "trips_top_3 = trips_per_station_hour[trips_per_station_hour['start_station_name'].isin(top_3_stations)].copy()\n",
    "\n",
    "# Step 7: Ensure data types are appropriate for Hopsworks\n",
    "trips_top_3['start_station_name'] = trips_top_3['start_station_name'].astype(str)\n",
    "trips_top_3['start_hour'] = trips_top_3['start_hour'].astype(str)  # Convert to string for Hopsworks compatibility\n",
    "trips_top_3['trip_count'] = trips_top_3['trip_count'].astype(int)\n",
    "\n",
    "# Step 8: Save the processed data locally\n",
    "trips_top_3.to_csv('processed_trips_top_3.csv', index=False)\n",
    "\n",
    "# Inspect the processed data\n",
    "print(\"\\nProcessed data (first 5 rows):\")\n",
    "print(trips_top_3.head())"
   ]
  },
  {
   "cell_type": "code",
   "execution_count": 7,
   "id": "e9ab4fd8",
   "metadata": {},
   "outputs": [
    {
     "ename": "TypeError",
     "evalue": "ForwardRef._evaluate() missing 1 required keyword-only argument: 'recursive_guard'",
     "output_type": "error",
     "traceback": [
      "\u001b[31m---------------------------------------------------------------------------\u001b[39m",
      "\u001b[31mTypeError\u001b[39m                                 Traceback (most recent call last)",
      "\u001b[36mCell\u001b[39m\u001b[36m \u001b[39m\u001b[32mIn[7]\u001b[39m\u001b[32m, line 1\u001b[39m\n\u001b[32m----> \u001b[39m\u001b[32m1\u001b[39m \u001b[38;5;28;01mimport\u001b[39;00m \u001b[34;01mhopsworks\u001b[39;00m\n\u001b[32m      3\u001b[39m \u001b[38;5;66;03m# Test connection\u001b[39;00m\n\u001b[32m      4\u001b[39m \u001b[38;5;28;01mtry\u001b[39;00m:\n",
      "\u001b[36mFile \u001b[39m\u001b[32mc:\\Ranjeet\\Downloads\\Anaconda\\Anaconda\\Lib\\site-packages\\hopsworks\\__init__.py:43\u001b[39m\n\u001b[32m     40\u001b[39m \u001b[38;5;66;03m# Needs to run before import of hsml and hsfs\u001b[39;00m\n\u001b[32m     41\u001b[39m warnings.filterwarnings(action=\u001b[33m\"\u001b[39m\u001b[33mignore\u001b[39m\u001b[33m\"\u001b[39m, category=\u001b[38;5;167;01mUserWarning\u001b[39;00m, module=\u001b[33mr\u001b[39m\u001b[33m\"\u001b[39m\u001b[33m.*psycopg2\u001b[39m\u001b[33m\"\u001b[39m)\n\u001b[32m---> \u001b[39m\u001b[32m43\u001b[39m \u001b[38;5;28;01mimport\u001b[39;00m \u001b[34;01mhsfs\u001b[39;00m  \u001b[38;5;66;03m# noqa: E402\u001b[39;00m\n\u001b[32m     44\u001b[39m \u001b[38;5;28;01mimport\u001b[39;00m \u001b[34;01mhsml\u001b[39;00m  \u001b[38;5;66;03m# noqa: E402\u001b[39;00m\n\u001b[32m     47\u001b[39m sys.modules[\u001b[33m\"\u001b[39m\u001b[33mhopsworks.hsfs\u001b[39m\u001b[33m\"\u001b[39m] = hsfs\n",
      "\u001b[36mFile \u001b[39m\u001b[32mc:\\Ranjeet\\Downloads\\Anaconda\\Anaconda\\Lib\\site-packages\\hsfs\\__init__.py:19\u001b[39m\n\u001b[32m      1\u001b[39m \u001b[38;5;66;03m#\u001b[39;00m\n\u001b[32m      2\u001b[39m \u001b[38;5;66;03m#   Copyright 2020 Logical Clocks AB\u001b[39;00m\n\u001b[32m      3\u001b[39m \u001b[38;5;66;03m#\u001b[39;00m\n\u001b[32m   (...)\u001b[39m\u001b[32m     14\u001b[39m \u001b[38;5;66;03m#   limitations under the License.\u001b[39;00m\n\u001b[32m     15\u001b[39m \u001b[38;5;66;03m#\u001b[39;00m\n\u001b[32m     17\u001b[39m \u001b[38;5;28;01mimport\u001b[39;00m \u001b[34;01mwarnings\u001b[39;00m\n\u001b[32m---> \u001b[39m\u001b[32m19\u001b[39m \u001b[38;5;28;01mfrom\u001b[39;00m \u001b[34;01mhsfs\u001b[39;00m \u001b[38;5;28;01mimport\u001b[39;00m util, version\n\u001b[32m     20\u001b[39m \u001b[38;5;28;01mfrom\u001b[39;00m \u001b[34;01mhsfs\u001b[39;00m\u001b[34;01m.\u001b[39;00m\u001b[34;01mconnection\u001b[39;00m \u001b[38;5;28;01mimport\u001b[39;00m Connection\n\u001b[32m     21\u001b[39m \u001b[38;5;28;01mfrom\u001b[39;00m \u001b[34;01mhsfs\u001b[39;00m \u001b[38;5;28;01mimport\u001b[39;00m usage\n",
      "\u001b[36mFile \u001b[39m\u001b[32mc:\\Ranjeet\\Downloads\\Anaconda\\Anaconda\\Lib\\site-packages\\hsfs\\util.py:35\u001b[39m\n\u001b[32m     32\u001b[39m \u001b[38;5;28;01mfrom\u001b[39;00m \u001b[34;01msqlalchemy\u001b[39;00m\u001b[34;01m.\u001b[39;00m\u001b[34;01mengine\u001b[39;00m\u001b[34;01m.\u001b[39;00m\u001b[34;01murl\u001b[39;00m \u001b[38;5;28;01mimport\u001b[39;00m make_url\n\u001b[32m     34\u001b[39m \u001b[38;5;28;01mfrom\u001b[39;00m \u001b[34;01mhsfs\u001b[39;00m \u001b[38;5;28;01mimport\u001b[39;00m client, feature\n\u001b[32m---> \u001b[39m\u001b[32m35\u001b[39m \u001b[38;5;28;01mfrom\u001b[39;00m \u001b[34;01mhsfs\u001b[39;00m \u001b[38;5;28;01mimport\u001b[39;00m feature_group \u001b[38;5;28;01mas\u001b[39;00m fg_mod\n\u001b[32m     36\u001b[39m \u001b[38;5;28;01mfrom\u001b[39;00m \u001b[34;01mhsfs\u001b[39;00m\u001b[34;01m.\u001b[39;00m\u001b[34;01mclient\u001b[39;00m \u001b[38;5;28;01mimport\u001b[39;00m exceptions\n\u001b[32m     37\u001b[39m \u001b[38;5;28;01mfrom\u001b[39;00m \u001b[34;01mhsfs\u001b[39;00m\u001b[34;01m.\u001b[39;00m\u001b[34;01mcore\u001b[39;00m \u001b[38;5;28;01mimport\u001b[39;00m variable_api\n",
      "\u001b[36mFile \u001b[39m\u001b[32mc:\\Ranjeet\\Downloads\\Anaconda\\Anaconda\\Lib\\site-packages\\hsfs\\feature_group.py:22\u001b[39m\n\u001b[32m     19\u001b[39m \u001b[38;5;28;01mimport\u001b[39;00m \u001b[34;01mtime\u001b[39;00m\n\u001b[32m     21\u001b[39m \u001b[38;5;28;01mfrom\u001b[39;00m \u001b[34;01mhsfs\u001b[39;00m\u001b[34;01m.\u001b[39;00m\u001b[34;01membedding\u001b[39;00m \u001b[38;5;28;01mimport\u001b[39;00m EmbeddingIndex\n\u001b[32m---> \u001b[39m\u001b[32m22\u001b[39m \u001b[38;5;28;01mfrom\u001b[39;00m \u001b[34;01mhsfs\u001b[39;00m\u001b[34;01m.\u001b[39;00m\u001b[34;01mge_validation_result\u001b[39;00m \u001b[38;5;28;01mimport\u001b[39;00m ValidationResult\n\u001b[32m     23\u001b[39m \u001b[38;5;28;01mimport\u001b[39;00m \u001b[34;01mhumps\u001b[39;00m\n\u001b[32m     24\u001b[39m \u001b[38;5;28;01mimport\u001b[39;00m \u001b[34;01mjson\u001b[39;00m\n",
      "\u001b[36mFile \u001b[39m\u001b[32mc:\\Ranjeet\\Downloads\\Anaconda\\Anaconda\\Lib\\site-packages\\hsfs\\ge_validation_result.py:23\u001b[39m\n\u001b[32m     20\u001b[39m \u001b[38;5;28;01mimport\u001b[39;00m \u001b[34;01mdateutil\u001b[39;00m\n\u001b[32m     22\u001b[39m \u001b[38;5;28;01mimport\u001b[39;00m \u001b[34;01mhumps\u001b[39;00m\n\u001b[32m---> \u001b[39m\u001b[32m23\u001b[39m \u001b[38;5;28;01mimport\u001b[39;00m \u001b[34;01mgreat_expectations\u001b[39;00m \u001b[38;5;28;01mas\u001b[39;00m \u001b[34;01mge\u001b[39;00m\n\u001b[32m     25\u001b[39m \u001b[38;5;28;01mfrom\u001b[39;00m \u001b[34;01mhsfs\u001b[39;00m \u001b[38;5;28;01mimport\u001b[39;00m util\n\u001b[32m     28\u001b[39m \u001b[38;5;28;01mclass\u001b[39;00m \u001b[34;01mValidationResult\u001b[39;00m:\n",
      "\u001b[36mFile \u001b[39m\u001b[32mc:\\Ranjeet\\Downloads\\Anaconda\\Anaconda\\Lib\\site-packages\\great_expectations\\__init__.py:6\u001b[39m\n\u001b[32m      2\u001b[39m \u001b[38;5;28;01mfrom\u001b[39;00m \u001b[34;01m.\u001b[39;00m\u001b[34;01m_version\u001b[39;00m \u001b[38;5;28;01mimport\u001b[39;00m get_versions  \u001b[38;5;66;03m# isort:skip\u001b[39;00m\n\u001b[32m      4\u001b[39m __version__ = get_versions()[\u001b[33m\"\u001b[39m\u001b[33mversion\u001b[39m\u001b[33m\"\u001b[39m]  \u001b[38;5;66;03m# isort:skip\u001b[39;00m\n\u001b[32m----> \u001b[39m\u001b[32m6\u001b[39m \u001b[38;5;28;01mfrom\u001b[39;00m \u001b[34;01mgreat_expectations\u001b[39;00m\u001b[34;01m.\u001b[39;00m\u001b[34;01mdata_context\u001b[39;00m\u001b[34;01m.\u001b[39;00m\u001b[34;01mmigrator\u001b[39;00m\u001b[34;01m.\u001b[39;00m\u001b[34;01mcloud_migrator\u001b[39;00m \u001b[38;5;28;01mimport\u001b[39;00m CloudMigrator\n\u001b[32m      7\u001b[39m \u001b[38;5;28;01mfrom\u001b[39;00m \u001b[34;01mgreat_expectations\u001b[39;00m\u001b[34;01m.\u001b[39;00m\u001b[34;01mexpectations\u001b[39;00m\u001b[34;01m.\u001b[39;00m\u001b[34;01mregistry\u001b[39;00m \u001b[38;5;28;01mimport\u001b[39;00m register_core_expectations\n\u001b[32m      9\u001b[39m \u001b[38;5;28;01mdel\u001b[39;00m get_versions  \u001b[38;5;66;03m# isort:skip\u001b[39;00m\n",
      "\u001b[36mFile \u001b[39m\u001b[32mc:\\Ranjeet\\Downloads\\Anaconda\\Anaconda\\Lib\\site-packages\\great_expectations\\data_context\\__init__.py:1\u001b[39m\n\u001b[32m----> \u001b[39m\u001b[32m1\u001b[39m \u001b[38;5;28;01mfrom\u001b[39;00m \u001b[34;01mgreat_expectations\u001b[39;00m\u001b[34;01m.\u001b[39;00m\u001b[34;01mdata_context\u001b[39;00m\u001b[34;01m.\u001b[39;00m\u001b[34;01mdata_context\u001b[39;00m \u001b[38;5;28;01mimport\u001b[39;00m (\n\u001b[32m      2\u001b[39m     AbstractDataContext,\n\u001b[32m      3\u001b[39m     BaseDataContext,\n\u001b[32m      4\u001b[39m     CloudDataContext,\n\u001b[32m      5\u001b[39m     DataContext,\n\u001b[32m      6\u001b[39m     EphemeralDataContext,\n\u001b[32m      7\u001b[39m     FileDataContext,\n\u001b[32m      8\u001b[39m     get_context,\n\u001b[32m      9\u001b[39m )\n",
      "\u001b[36mFile \u001b[39m\u001b[32mc:\\Ranjeet\\Downloads\\Anaconda\\Anaconda\\Lib\\site-packages\\great_expectations\\data_context\\data_context\\__init__.py:1\u001b[39m\n\u001b[32m----> \u001b[39m\u001b[32m1\u001b[39m \u001b[38;5;28;01mfrom\u001b[39;00m \u001b[34;01mgreat_expectations\u001b[39;00m\u001b[34;01m.\u001b[39;00m\u001b[34;01mdata_context\u001b[39;00m\u001b[34;01m.\u001b[39;00m\u001b[34;01mdata_context\u001b[39;00m\u001b[34;01m.\u001b[39;00m\u001b[34;01mabstract_data_context\u001b[39;00m \u001b[38;5;28;01mimport\u001b[39;00m (\n\u001b[32m      2\u001b[39m     AbstractDataContext,\n\u001b[32m      3\u001b[39m )\n\u001b[32m      4\u001b[39m \u001b[38;5;28;01mfrom\u001b[39;00m \u001b[34;01mgreat_expectations\u001b[39;00m\u001b[34;01m.\u001b[39;00m\u001b[34;01mdata_context\u001b[39;00m\u001b[34;01m.\u001b[39;00m\u001b[34;01mdata_context\u001b[39;00m\u001b[34;01m.\u001b[39;00m\u001b[34;01mbase_data_context\u001b[39;00m \u001b[38;5;28;01mimport\u001b[39;00m (\n\u001b[32m      5\u001b[39m     BaseDataContext,\n\u001b[32m      6\u001b[39m )\n\u001b[32m      7\u001b[39m \u001b[38;5;28;01mfrom\u001b[39;00m \u001b[34;01mgreat_expectations\u001b[39;00m\u001b[34;01m.\u001b[39;00m\u001b[34;01mdata_context\u001b[39;00m\u001b[34;01m.\u001b[39;00m\u001b[34;01mdata_context\u001b[39;00m\u001b[34;01m.\u001b[39;00m\u001b[34;01mcloud_data_context\u001b[39;00m \u001b[38;5;28;01mimport\u001b[39;00m (\n\u001b[32m      8\u001b[39m     CloudDataContext,\n\u001b[32m      9\u001b[39m )\n",
      "\u001b[36mFile \u001b[39m\u001b[32mc:\\Ranjeet\\Downloads\\Anaconda\\Anaconda\\Lib\\site-packages\\great_expectations\\data_context\\data_context\\abstract_data_context.py:61\u001b[39m\n\u001b[32m     54\u001b[39m \u001b[38;5;28;01mfrom\u001b[39;00m \u001b[34;01mgreat_expectations\u001b[39;00m\u001b[34;01m.\u001b[39;00m\u001b[34;01mcore\u001b[39;00m\u001b[34;01m.\u001b[39;00m\u001b[34;01mconfig_peer\u001b[39;00m \u001b[38;5;28;01mimport\u001b[39;00m ConfigPeer\n\u001b[32m     55\u001b[39m \u001b[38;5;28;01mfrom\u001b[39;00m \u001b[34;01mgreat_expectations\u001b[39;00m\u001b[34;01m.\u001b[39;00m\u001b[34;01mcore\u001b[39;00m\u001b[34;01m.\u001b[39;00m\u001b[34;01mconfig_provider\u001b[39;00m \u001b[38;5;28;01mimport\u001b[39;00m (\n\u001b[32m     56\u001b[39m     _ConfigurationProvider,\n\u001b[32m     57\u001b[39m     _ConfigurationVariablesConfigurationProvider,\n\u001b[32m     58\u001b[39m     _EnvironmentConfigurationProvider,\n\u001b[32m     59\u001b[39m     _RuntimeEnvironmentConfigurationProvider,\n\u001b[32m     60\u001b[39m )\n\u001b[32m---> \u001b[39m\u001b[32m61\u001b[39m \u001b[38;5;28;01mfrom\u001b[39;00m \u001b[34;01mgreat_expectations\u001b[39;00m\u001b[34;01m.\u001b[39;00m\u001b[34;01mcore\u001b[39;00m\u001b[34;01m.\u001b[39;00m\u001b[34;01mdatasource_dict\u001b[39;00m \u001b[38;5;28;01mimport\u001b[39;00m CacheableDatasourceDict\n\u001b[32m     62\u001b[39m \u001b[38;5;28;01mfrom\u001b[39;00m \u001b[34;01mgreat_expectations\u001b[39;00m\u001b[34;01m.\u001b[39;00m\u001b[34;01mcore\u001b[39;00m\u001b[34;01m.\u001b[39;00m\u001b[34;01mexpectation_validation_result\u001b[39;00m \u001b[38;5;28;01mimport\u001b[39;00m get_metric_kwargs_id\n\u001b[32m     63\u001b[39m \u001b[38;5;28;01mfrom\u001b[39;00m \u001b[34;01mgreat_expectations\u001b[39;00m\u001b[34;01m.\u001b[39;00m\u001b[34;01mcore\u001b[39;00m\u001b[34;01m.\u001b[39;00m\u001b[34;01mid_dict\u001b[39;00m \u001b[38;5;28;01mimport\u001b[39;00m BatchKwargs\n",
      "\u001b[36mFile \u001b[39m\u001b[32mc:\\Ranjeet\\Downloads\\Anaconda\\Anaconda\\Lib\\site-packages\\great_expectations\\core\\datasource_dict.py:13\u001b[39m\n\u001b[32m      8\u001b[39m \u001b[38;5;28;01mfrom\u001b[39;00m \u001b[34;01mgreat_expectations\u001b[39;00m\u001b[34;01m.\u001b[39;00m\u001b[34;01mcompatibility\u001b[39;00m\u001b[34;01m.\u001b[39;00m\u001b[34;01mtyping_extensions\u001b[39;00m \u001b[38;5;28;01mimport\u001b[39;00m override\n\u001b[32m      9\u001b[39m \u001b[38;5;28;01mfrom\u001b[39;00m \u001b[34;01mgreat_expectations\u001b[39;00m\u001b[34;01m.\u001b[39;00m\u001b[34;01mdata_context\u001b[39;00m\u001b[34;01m.\u001b[39;00m\u001b[34;01mtypes\u001b[39;00m\u001b[34;01m.\u001b[39;00m\u001b[34;01mbase\u001b[39;00m \u001b[38;5;28;01mimport\u001b[39;00m (\n\u001b[32m     10\u001b[39m     DatasourceConfig,\n\u001b[32m     11\u001b[39m     datasourceConfigSchema,\n\u001b[32m     12\u001b[39m )\n\u001b[32m---> \u001b[39m\u001b[32m13\u001b[39m \u001b[38;5;28;01mfrom\u001b[39;00m \u001b[34;01mgreat_expectations\u001b[39;00m\u001b[34;01m.\u001b[39;00m\u001b[34;01mdatasource\u001b[39;00m\u001b[34;01m.\u001b[39;00m\u001b[34;01mfluent\u001b[39;00m \u001b[38;5;28;01mimport\u001b[39;00m Datasource \u001b[38;5;28;01mas\u001b[39;00m FluentDatasource\n\u001b[32m     14\u001b[39m \u001b[38;5;28;01mfrom\u001b[39;00m \u001b[34;01mgreat_expectations\u001b[39;00m\u001b[34;01m.\u001b[39;00m\u001b[34;01mdatasource\u001b[39;00m\u001b[34;01m.\u001b[39;00m\u001b[34;01mfluent\u001b[39;00m\u001b[34;01m.\u001b[39;00m\u001b[34;01mconstants\u001b[39;00m \u001b[38;5;28;01mimport\u001b[39;00m _IN_MEMORY_DATA_ASSET_TYPE\n\u001b[32m     16\u001b[39m \u001b[38;5;28;01mif\u001b[39;00m TYPE_CHECKING:\n",
      "\u001b[36mFile \u001b[39m\u001b[32mc:\\Ranjeet\\Downloads\\Anaconda\\Anaconda\\Lib\\site-packages\\great_expectations\\datasource\\fluent\\__init__.py:5\u001b[39m\n\u001b[32m      1\u001b[39m \u001b[38;5;66;03m# isort:skip_file\u001b[39;00m\n\u001b[32m      3\u001b[39m \u001b[38;5;28;01mimport\u001b[39;00m \u001b[34;01mpathlib\u001b[39;00m\n\u001b[32m----> \u001b[39m\u001b[32m5\u001b[39m \u001b[38;5;28;01mfrom\u001b[39;00m \u001b[34;01mgreat_expectations\u001b[39;00m\u001b[34;01m.\u001b[39;00m\u001b[34;01mdatasource\u001b[39;00m\u001b[34;01m.\u001b[39;00m\u001b[34;01mfluent\u001b[39;00m\u001b[34;01m.\u001b[39;00m\u001b[34;01minterfaces\u001b[39;00m \u001b[38;5;28;01mimport\u001b[39;00m (\n\u001b[32m      6\u001b[39m     DataAsset,\n\u001b[32m      7\u001b[39m     Datasource,\n\u001b[32m      8\u001b[39m     Sorter,\n\u001b[32m      9\u001b[39m     BatchMetadata,\n\u001b[32m     10\u001b[39m     GxDatasourceWarning,\n\u001b[32m     11\u001b[39m     TestConnectionError,\n\u001b[32m     12\u001b[39m )\n\u001b[32m     13\u001b[39m \u001b[38;5;28;01mfrom\u001b[39;00m \u001b[34;01mgreat_expectations\u001b[39;00m\u001b[34;01m.\u001b[39;00m\u001b[34;01mdatasource\u001b[39;00m\u001b[34;01m.\u001b[39;00m\u001b[34;01mfluent\u001b[39;00m\u001b[34;01m.\u001b[39;00m\u001b[34;01mbatch_request\u001b[39;00m \u001b[38;5;28;01mimport\u001b[39;00m (\n\u001b[32m     14\u001b[39m     BatchRequest,\n\u001b[32m     15\u001b[39m     BatchRequestOptions,\n\u001b[32m     16\u001b[39m )\n\u001b[32m     17\u001b[39m \u001b[38;5;28;01mfrom\u001b[39;00m \u001b[34;01mgreat_expectations\u001b[39;00m\u001b[34;01m.\u001b[39;00m\u001b[34;01mdatasource\u001b[39;00m\u001b[34;01m.\u001b[39;00m\u001b[34;01mfluent\u001b[39;00m\u001b[34;01m.\u001b[39;00m\u001b[34;01mpandas_datasource\u001b[39;00m \u001b[38;5;28;01mimport\u001b[39;00m (\n\u001b[32m     18\u001b[39m     PandasDatasource,\n\u001b[32m     19\u001b[39m     _PandasDatasource,\n\u001b[32m     20\u001b[39m )\n",
      "\u001b[36mFile \u001b[39m\u001b[32mc:\\Ranjeet\\Downloads\\Anaconda\\Anaconda\\Lib\\site-packages\\great_expectations\\datasource\\fluent\\interfaces.py:731\u001b[39m\n\u001b[32m    726\u001b[39m     \u001b[38;5;129m@override\u001b[39m\n\u001b[32m    727\u001b[39m     \u001b[38;5;28;01mdef\u001b[39;00m \u001b[34m__repr__\u001b[39m(\u001b[38;5;28mself\u001b[39m) -> \u001b[38;5;28mstr\u001b[39m:\n\u001b[32m    728\u001b[39m         \u001b[38;5;28;01mreturn\u001b[39;00m \u001b[38;5;28mself\u001b[39m.data.\u001b[34m__repr__\u001b[39m()\n\u001b[32m--> \u001b[39m\u001b[32m731\u001b[39m \u001b[38;5;28;43;01mclass\u001b[39;49;00m\u001b[43m \u001b[49m\u001b[34;43;01mBatch\u001b[39;49;00m\u001b[43m(\u001b[49m\u001b[43mFluentBaseModel\u001b[49m\u001b[43m)\u001b[49m\u001b[43m:\u001b[49m\n\u001b[32m    732\u001b[39m \u001b[38;5;250;43m    \u001b[39;49m\u001b[33;43;03m\"\"\"This represents a batch of data.\u001b[39;49;00m\n\u001b[32m    733\u001b[39m \n\u001b[32m    734\u001b[39m \u001b[33;43;03m    This is usually not the data itself but a hook to the data on an external datastore such as\u001b[39;49;00m\n\u001b[32m    735\u001b[39m \u001b[33;43;03m    a spark or a sql database. An exception exists for pandas or any in-memory datastore.\u001b[39;49;00m\n\u001b[32m    736\u001b[39m \u001b[33;43;03m    \"\"\"\u001b[39;49;00m\n\u001b[32m    738\u001b[39m \u001b[43m    \u001b[49m\u001b[43mdatasource\u001b[49m\u001b[43m:\u001b[49m\u001b[43m \u001b[49m\u001b[43mDatasource\u001b[49m\n",
      "\u001b[36mFile \u001b[39m\u001b[32mc:\\Ranjeet\\Downloads\\Anaconda\\Anaconda\\Lib\\site-packages\\pydantic\\v1\\main.py:286\u001b[39m, in \u001b[36mModelMetaclass.__new__\u001b[39m\u001b[34m(mcs, name, bases, namespace, **kwargs)\u001b[39m\n\u001b[32m    284\u001b[39m \u001b[38;5;28mcls\u001b[39m.__signature__ = ClassAttribute(\u001b[33m'\u001b[39m\u001b[33m__signature__\u001b[39m\u001b[33m'\u001b[39m, generate_model_signature(\u001b[38;5;28mcls\u001b[39m.\u001b[34m__init__\u001b[39m, fields, config))\n\u001b[32m    285\u001b[39m \u001b[38;5;28;01mif\u001b[39;00m resolve_forward_refs:\n\u001b[32m--> \u001b[39m\u001b[32m286\u001b[39m     \u001b[38;5;28;43mcls\u001b[39;49m\u001b[43m.\u001b[49m\u001b[43m__try_update_forward_refs__\u001b[49m\u001b[43m(\u001b[49m\u001b[43m)\u001b[49m\n\u001b[32m    288\u001b[39m \u001b[38;5;66;03m# preserve `__set_name__` protocol defined in https://peps.python.org/pep-0487\u001b[39;00m\n\u001b[32m    289\u001b[39m \u001b[38;5;66;03m# for attributes not in `new_namespace` (e.g. private attributes)\u001b[39;00m\n\u001b[32m    290\u001b[39m \u001b[38;5;28;01mfor\u001b[39;00m name, obj \u001b[38;5;129;01min\u001b[39;00m namespace.items():\n",
      "\u001b[36mFile \u001b[39m\u001b[32mc:\\Ranjeet\\Downloads\\Anaconda\\Anaconda\\Lib\\site-packages\\pydantic\\v1\\main.py:808\u001b[39m, in \u001b[36mBaseModel.__try_update_forward_refs__\u001b[39m\u001b[34m(cls, **localns)\u001b[39m\n\u001b[32m    802\u001b[39m \u001b[38;5;129m@classmethod\u001b[39m\n\u001b[32m    803\u001b[39m \u001b[38;5;28;01mdef\u001b[39;00m \u001b[34m__try_update_forward_refs__\u001b[39m(\u001b[38;5;28mcls\u001b[39m, **localns: Any) -> \u001b[38;5;28;01mNone\u001b[39;00m:\n\u001b[32m    804\u001b[39m \u001b[38;5;250m    \u001b[39m\u001b[33;03m\"\"\"\u001b[39;00m\n\u001b[32m    805\u001b[39m \u001b[33;03m    Same as update_forward_refs but will not raise exception\u001b[39;00m\n\u001b[32m    806\u001b[39m \u001b[33;03m    when forward references are not defined.\u001b[39;00m\n\u001b[32m    807\u001b[39m \u001b[33;03m    \"\"\"\u001b[39;00m\n\u001b[32m--> \u001b[39m\u001b[32m808\u001b[39m     \u001b[43mupdate_model_forward_refs\u001b[49m\u001b[43m(\u001b[49m\u001b[38;5;28;43mcls\u001b[39;49m\u001b[43m,\u001b[49m\u001b[43m \u001b[49m\u001b[38;5;28;43mcls\u001b[39;49m\u001b[43m.\u001b[49m\u001b[43m__fields__\u001b[49m\u001b[43m.\u001b[49m\u001b[43mvalues\u001b[49m\u001b[43m(\u001b[49m\u001b[43m)\u001b[49m\u001b[43m,\u001b[49m\u001b[43m \u001b[49m\u001b[38;5;28;43mcls\u001b[39;49m\u001b[43m.\u001b[49m\u001b[43m__config__\u001b[49m\u001b[43m.\u001b[49m\u001b[43mjson_encoders\u001b[49m\u001b[43m,\u001b[49m\u001b[43m \u001b[49m\u001b[43mlocalns\u001b[49m\u001b[43m,\u001b[49m\u001b[43m \u001b[49m\u001b[43m(\u001b[49m\u001b[38;5;167;43;01mNameError\u001b[39;49;00m\u001b[43m,\u001b[49m\u001b[43m)\u001b[49m\u001b[43m)\u001b[49m\n",
      "\u001b[36mFile \u001b[39m\u001b[32mc:\\Ranjeet\\Downloads\\Anaconda\\Anaconda\\Lib\\site-packages\\pydantic\\v1\\typing.py:554\u001b[39m, in \u001b[36mupdate_model_forward_refs\u001b[39m\u001b[34m(model, fields, json_encoders, localns, exc_to_suppress)\u001b[39m\n\u001b[32m    552\u001b[39m \u001b[38;5;28;01mfor\u001b[39;00m f \u001b[38;5;129;01min\u001b[39;00m fields:\n\u001b[32m    553\u001b[39m     \u001b[38;5;28;01mtry\u001b[39;00m:\n\u001b[32m--> \u001b[39m\u001b[32m554\u001b[39m         \u001b[43mupdate_field_forward_refs\u001b[49m\u001b[43m(\u001b[49m\u001b[43mf\u001b[49m\u001b[43m,\u001b[49m\u001b[43m \u001b[49m\u001b[43mglobalns\u001b[49m\u001b[43m=\u001b[49m\u001b[43mglobalns\u001b[49m\u001b[43m,\u001b[49m\u001b[43m \u001b[49m\u001b[43mlocalns\u001b[49m\u001b[43m=\u001b[49m\u001b[43mlocalns\u001b[49m\u001b[43m)\u001b[49m\n\u001b[32m    555\u001b[39m     \u001b[38;5;28;01mexcept\u001b[39;00m exc_to_suppress:\n\u001b[32m    556\u001b[39m         \u001b[38;5;28;01mpass\u001b[39;00m\n",
      "\u001b[36mFile \u001b[39m\u001b[32mc:\\Ranjeet\\Downloads\\Anaconda\\Anaconda\\Lib\\site-packages\\pydantic\\v1\\typing.py:520\u001b[39m, in \u001b[36mupdate_field_forward_refs\u001b[39m\u001b[34m(field, globalns, localns)\u001b[39m\n\u001b[32m    518\u001b[39m \u001b[38;5;28;01mif\u001b[39;00m field.type_.\u001b[34m__class__\u001b[39m == ForwardRef:\n\u001b[32m    519\u001b[39m     prepare = \u001b[38;5;28;01mTrue\u001b[39;00m\n\u001b[32m--> \u001b[39m\u001b[32m520\u001b[39m     field.type_ = \u001b[43mevaluate_forwardref\u001b[49m\u001b[43m(\u001b[49m\u001b[43mfield\u001b[49m\u001b[43m.\u001b[49m\u001b[43mtype_\u001b[49m\u001b[43m,\u001b[49m\u001b[43m \u001b[49m\u001b[43mglobalns\u001b[49m\u001b[43m,\u001b[49m\u001b[43m \u001b[49m\u001b[43mlocalns\u001b[49m\u001b[43m \u001b[49m\u001b[38;5;129;43;01mor\u001b[39;49;00m\u001b[43m \u001b[49m\u001b[38;5;28;43;01mNone\u001b[39;49;00m\u001b[43m)\u001b[49m\n\u001b[32m    521\u001b[39m \u001b[38;5;28;01mif\u001b[39;00m field.outer_type_.\u001b[34m__class__\u001b[39m == ForwardRef:\n\u001b[32m    522\u001b[39m     prepare = \u001b[38;5;28;01mTrue\u001b[39;00m\n",
      "\u001b[36mFile \u001b[39m\u001b[32mc:\\Ranjeet\\Downloads\\Anaconda\\Anaconda\\Lib\\site-packages\\pydantic\\v1\\typing.py:66\u001b[39m, in \u001b[36mevaluate_forwardref\u001b[39m\u001b[34m(type_, globalns, localns)\u001b[39m\n\u001b[32m     63\u001b[39m \u001b[38;5;28;01mdef\u001b[39;00m \u001b[34mevaluate_forwardref\u001b[39m(type_: ForwardRef, globalns: Any, localns: Any) -> Any:\n\u001b[32m     64\u001b[39m     \u001b[38;5;66;03m# Even though it is the right signature for python 3.9, mypy complains with\u001b[39;00m\n\u001b[32m     65\u001b[39m     \u001b[38;5;66;03m# `error: Too many arguments for \"_evaluate\" of \"ForwardRef\"` hence the cast...\u001b[39;00m\n\u001b[32m---> \u001b[39m\u001b[32m66\u001b[39m     \u001b[38;5;28;01mreturn\u001b[39;00m \u001b[43mcast\u001b[49m\u001b[43m(\u001b[49m\u001b[43mAny\u001b[49m\u001b[43m,\u001b[49m\u001b[43m \u001b[49m\u001b[43mtype_\u001b[49m\u001b[43m)\u001b[49m\u001b[43m.\u001b[49m\u001b[43m_evaluate\u001b[49m\u001b[43m(\u001b[49m\u001b[43mglobalns\u001b[49m\u001b[43m,\u001b[49m\u001b[43m \u001b[49m\u001b[43mlocalns\u001b[49m\u001b[43m,\u001b[49m\u001b[43m \u001b[49m\u001b[38;5;28;43mset\u001b[39;49m\u001b[43m(\u001b[49m\u001b[43m)\u001b[49m\u001b[43m)\u001b[49m\n",
      "\u001b[31mTypeError\u001b[39m: ForwardRef._evaluate() missing 1 required keyword-only argument: 'recursive_guard'"
     ]
    }
   ],
   "source": [
    "import hopsworks\n",
    "\n",
    "# Test connection\n",
    "try:\n",
    "    print(\"Attempting to connect to Hopsworks...\")\n",
    "    project = hopsworks.login(\n",
    "        host='c.app.hopsworks.ai',\n",
    "        project='CitiBikeTrip',  # Replace with your exact project name\n",
    "        api_key_value='DIrr083Keer9GlOI.3FUt2ZiErZwV9gDGP0i5fCINcaNopLE4YfPoswUh3HrGaepEZyMdO5VQkxFsl4d0'\n",
    "    )\n",
    "    print(\"Connection established successfully.\")\n",
    "    fs = project.get_feature_store()\n",
    "    print(\"Feature Store retrieved successfully.\")\n",
    "except Exception as e:\n",
    "    print(f\"Connection failed: {str(e)}\")\n",
    "    raise"
   ]
  }
 ],
 "metadata": {
  "kernelspec": {
   "display_name": "Python 3 (ipykernel)",
   "language": "python",
   "name": "python3"
  },
  "language_info": {
   "codemirror_mode": {
    "name": "ipython",
    "version": 3
   },
   "file_extension": ".py",
   "mimetype": "text/x-python",
   "name": "python",
   "nbconvert_exporter": "python",
   "pygments_lexer": "ipython3",
   "version": "3.12.4"
  }
 },
 "nbformat": 4,
 "nbformat_minor": 5
}
